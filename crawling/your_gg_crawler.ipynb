{
 "cells": [
  {
   "cell_type": "code",
   "execution_count": 34,
   "metadata": {},
   "outputs": [
    {
     "name": "stdout",
     "output_type": "stream",
     "text": [
      "['4504741686', 'Solo', '48m ago', 'Win', '24 min', 'LV15', '7.6', 'S', '4:6', '3', '2', '21', '183(7.6)', '55%', 'huntiand1', 'ke ai ke ai', 'Hide on bush', 'xxxss', '참외 소스 하하', 'impupupu', 'AF Burry', '스누피2', '쌍수도', '홈런볼 다 내꺼']\n",
      "['/', '/ddragon', '/cdn', '/10', '/img', '/spell', '/SummonerTeleport']\n",
      "['/', '/ddragon', '/cdn', '/10', '/img', '/spell', '/SummonerFlash']\n",
      "['/', '/ddragon', '/cdn', '/img', '/perk', '/Styles', '/7203_Whimsy']\n",
      "['/', '/ddragon', '/cdn', '/img', '/perk', '/Styles', '/7202_Sorcery']\n",
      "['/', '/ddragon', '/cdn', '/10', '/img', '/champion', '/Galio']\n",
      "['/v4', '/media', '/tran']\n",
      "['/', '/ddragon', '/cdn', '/10', '/img', '/champion', '/Camille']\n",
      "['/', '/ddragon', '/cdn', '/10', '/img', '/champion', '/LeeSin']\n",
      "['/', '/ddragon', '/cdn', '/10', '/img', '/champion', '/Galio']\n",
      "['/', '/ddragon', '/cdn', '/10', '/img', '/champion', '/Kaisa']\n",
      "['/', '/ddragon', '/cdn', '/10', '/img', '/champion', '/Sett']\n",
      "['/', '/ddragon', '/cdn', '/10', '/img', '/champion', '/Aatrox']\n",
      "['/', '/ddragon', '/cdn', '/10', '/img', '/champion', '/RekSai']\n",
      "['/', '/ddragon', '/cdn', '/10', '/img', '/champion', '/Sylas']\n",
      "['/', '/ddragon', '/cdn', '/10', '/img', '/champion', '/Kalista']\n",
      "['/', '/ddragon', '/cdn', '/10', '/img', '/champion', '/Thresh']\n"
     ]
    }
   ],
   "source": [
    "### import re\n",
    "from bs4 import BeautifulSoup\n",
    "import pandas as pd\n",
    "\n",
    "with open('../data/hide on bush', encoding='UTF-8') as f:\n",
    "    soup = BeautifulSoup(f, 'html.parser')\n",
    "    \n",
    "#평가등급 가져오기\n",
    "# for div in soup.find_all('div', attrs={'id':'profileGraphAllPc'}):\n",
    "#     print(div.get('data-json'))\n",
    "\n",
    "match_info_keys = ['id', 'type', 'when', 'result', 'time', 'lv', 'rating', 'luck', 'laning', 'kill', 'death', 'assistant', 'CS', 'KP', '1_top', '1_jug', '1_mid', '1_ad', '1_sup', '2_top', '2_jug', '2_mid', '2_ad', '2_sup']\n",
    "hide_on_bush = pd.DataFrame(columns=match_info_keys)\n",
    "\n",
    "for div in soup.select('div.card.gg-matchlist.gg-a.py-3.px-lg-3'):\n",
    "    data_href = div.get('data-href')\n",
    "    p = re.compile('[0-9]+')\n",
    "    match_id = p.search(data_href).group()\n",
    "#     print('match id:', p.search(data_href).group())\n",
    "    \n",
    "    for div in div.find_all('div'):\n",
    "        match_info = re.sub(r'\\s{5,}', '\\n', div.text)\n",
    "        match_info = re.sub(r'\\n{2,}', '\\n', match_info).strip()\n",
    "        match_info = match_info.split('\\n')\n",
    "\n",
    "        for i in range(6, 14):\n",
    "            del match_info[i]\n",
    "            \n",
    "        match_info = [match_id] + match_info\n",
    "        \n",
    "        print(match_info)\n",
    "        break\n",
    "    \n",
    "    for img in div.find_all('img'):\n",
    "        src = img.get('src')\n",
    "        pattern = re.compile(r'(/\\w*)')\n",
    "        src_list = pattern.findall(src)\n",
    "        \n",
    "        print(src_list)\n",
    "    break\n",
    "#     hide_on_bush = hide_on_bush.append(dict((key, value) for key, value in zip(match_info_keys, match_info)), ignore_index=True)"
   ]
  },
  {
   "cell_type": "code",
   "execution_count": 32,
   "metadata": {},
   "outputs": [
    {
     "data": {
      "text/plain": [
       "'Thresh'"
      ]
     },
     "execution_count": 32,
     "metadata": {},
     "output_type": "execute_result"
    }
   ],
   "source": [
    "pattern = re.compile(r'(/\\w*)')\n",
    "pattern.findall(src)[-1][1:]\n",
    "# pattern.group(1)"
   ]
  },
  {
   "cell_type": "code",
   "execution_count": 28,
   "metadata": {},
   "outputs": [
    {
     "data": {
      "text/plain": [
       "re.compile(r'(/\\w*)', re.UNICODE)"
      ]
     },
     "execution_count": 28,
     "metadata": {},
     "output_type": "execute_result"
    }
   ],
   "source": [
    "pattern"
   ]
  },
  {
   "cell_type": "code",
   "execution_count": 25,
   "metadata": {},
   "outputs": [
    {
     "data": {
      "text/plain": [
       "'https://ddragon.leagueoflegends.com/cdn/10.14.1/img/champion/Thresh.png'"
      ]
     },
     "execution_count": 25,
     "metadata": {},
     "output_type": "execute_result"
    }
   ],
   "source": [
    "src"
   ]
  }
 ],
 "metadata": {
  "kernelspec": {
   "display_name": "Python 3",
   "language": "python",
   "name": "python3"
  },
  "language_info": {
   "codemirror_mode": {
    "name": "ipython",
    "version": 3
   },
   "file_extension": ".py",
   "mimetype": "text/x-python",
   "name": "python",
   "nbconvert_exporter": "python",
   "pygments_lexer": "ipython3",
   "version": "3.7.3"
  }
 },
 "nbformat": 4,
 "nbformat_minor": 2
}
